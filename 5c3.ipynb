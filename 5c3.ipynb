{
 "cells": [
  {
   "cell_type": "code",
   "execution_count": 3,
   "metadata": {},
   "outputs": [
    {
     "ename": "ModuleNotFoundError",
     "evalue": "No module named 'statsmodels'",
     "output_type": "error",
     "traceback": [
      "\u001b[1;31m---------------------------------------------------------------------------\u001b[0m",
      "\u001b[1;31mModuleNotFoundError\u001b[0m                       Traceback (most recent call last)",
      "\u001b[1;32mc:\\Users\\VENKAT\\Desktop\\5c3.ipynb Cell 1\u001b[0m line \u001b[0;36m3\n\u001b[0;32m      <a href='vscode-notebook-cell:/c%3A/Users/VENKAT/Desktop/5c3.ipynb#W1sZmlsZQ%3D%3D?line=0'>1</a>\u001b[0m \u001b[39mimport\u001b[39;00m \u001b[39mpandas\u001b[39;00m \u001b[39mas\u001b[39;00m \u001b[39mpd\u001b[39;00m\n\u001b[0;32m      <a href='vscode-notebook-cell:/c%3A/Users/VENKAT/Desktop/5c3.ipynb#W1sZmlsZQ%3D%3D?line=1'>2</a>\u001b[0m \u001b[39mimport\u001b[39;00m \u001b[39mnumpy\u001b[39;00m \u001b[39mas\u001b[39;00m \u001b[39mnp\u001b[39;00m\n\u001b[1;32m----> <a href='vscode-notebook-cell:/c%3A/Users/VENKAT/Desktop/5c3.ipynb#W1sZmlsZQ%3D%3D?line=2'>3</a>\u001b[0m \u001b[39mimport\u001b[39;00m \u001b[39mstatsmodels\u001b[39;00m\u001b[39m.\u001b[39;00m\u001b[39mapi\u001b[39;00m \u001b[39mas\u001b[39;00m \u001b[39msm\u001b[39;00m\n\u001b[0;32m      <a href='vscode-notebook-cell:/c%3A/Users/VENKAT/Desktop/5c3.ipynb#W1sZmlsZQ%3D%3D?line=4'>5</a>\u001b[0m \u001b[39m# Load the CSV file into a DataFrame\u001b[39;00m\n\u001b[0;32m      <a href='vscode-notebook-cell:/c%3A/Users/VENKAT/Desktop/5c3.ipynb#W1sZmlsZQ%3D%3D?line=5'>6</a>\u001b[0m df \u001b[39m=\u001b[39m pd\u001b[39m.\u001b[39mread_csv(\u001b[39m\"\u001b[39m\u001b[39msales_data_2.csv\u001b[39m\u001b[39m\"\u001b[39m)\n",
      "\u001b[1;31mModuleNotFoundError\u001b[0m: No module named 'statsmodels'"
     ]
    }
   ],
   "source": [
    "import pandas as pd\n",
    "import numpy as np\n",
    "import statsmodels.api as sm\n",
    "\n",
    "# Load the CSV file into a DataFrame\n",
    "df = pd.read_csv(\"sales_data_2.csv\")\n",
    "\n",
    "# Calculate the gross margin without honoring Vendor 4\n",
    "gross_margin_without_vendor_4 = (df[df['Firm bought from'] != 'Vendor 4']['Selling price'] - df[df['Firm bought from'] != 'Vendor 4']['Buying price']).sum()\n",
    "\n",
    "# Calculate the gross margin with honoring Vendor 4\n",
    "gross_margin_with_vendor_4 = (df['Selling price'] - df['Buying price']).sum()\n",
    "\n",
    "# Calculate the impact on gross margin\n",
    "impact_on_gross_margin = gross_margin_with_vendor_4 - gross_margin_without_vendor_4\n",
    "\n",
    "# Calculate the gross margin for each vendor\n",
    "vendor_gross_margin = (df.groupby(\"Firm bought from\")[\"Selling price\"].sum() - df.groupby(\"Firm bought from\")[\"Buying price\"].sum())\n",
    "\n",
    "# Identify the vendor with the highest gross margin\n",
    "best_vendor = vendor_gross_margin.idxmax()\n",
    "\n",
    "# Calculate the theoretical maximum gross margin\n",
    "theoretical_max_margin = vendor_gross_margin.max()\n",
    "\n",
    "# Assuming you have price and sales data in 'Selling price' and 'Quantity sold' columns\n",
    "price = df['Selling price']\n",
    "sales = df['Quantity sold']\n",
    "\n",
    "# Perform a linear regression to estimate price elasticity\n",
    "X = sm.add_constant(price)\n",
    "model = sm.OLS(sales, X).fit()\n",
    "\n",
    "# Get the coefficient for price (price elasticity)\n",
    "price_elasticity = model.params['Selling price']\n",
    "\n",
    "# Print the results\n",
    "print(\"1. Impact on Gross Margin by Honoring Vendor 4:\", impact_on_gross_margin)\n",
    "print(\"\\n2. Vendor with Highest Gross Margin:\", best_vendor)\n",
    "print(\"Theoretical Maximum Gross Margin:\", theoretical_max_margin)\n",
    "print(\"\\n3. Price Elasticity of Sapota:\", price_elasticity)"
   ]
  }
 ],
 "metadata": {
  "kernelspec": {
   "display_name": "Python 3",
   "language": "python",
   "name": "python3"
  },
  "language_info": {
   "codemirror_mode": {
    "name": "ipython",
    "version": 3
   },
   "file_extension": ".py",
   "mimetype": "text/x-python",
   "name": "python",
   "nbconvert_exporter": "python",
   "pygments_lexer": "ipython3",
   "version": "3.10.11"
  }
 },
 "nbformat": 4,
 "nbformat_minor": 2
}
